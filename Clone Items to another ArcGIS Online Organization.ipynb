{
 "cells": [
  {
   "cell_type": "markdown",
   "metadata": {},
   "source": [
    "## Clone Items"
   ]
  },
  {
   "cell_type": "markdown",
   "metadata": {},
   "source": [
    "#### Connect to the origin and target ArcGIS Online organization"
   ]
  },
  {
   "cell_type": "code",
   "execution_count": null,
   "metadata": {},
   "outputs": [],
   "source": [
    "username = input(\"Enter username of origin organization: \")\n",
    "from arcgis.gis import GIS\n",
    "gis1 = GIS(\"https://arcgis.com\", username)"
   ]
  },
  {
   "cell_type": "code",
   "execution_count": null,
   "metadata": {},
   "outputs": [],
   "source": [
    "username_2 = input(\"Enter username of target organization: \")\n",
    "gis2 = GIS(\"https://arcgis.com\", username_2)"
   ]
  },
  {
   "cell_type": "markdown",
   "metadata": {},
   "source": [
    "#### Create a list of items to clone\n",
    "\n",
    "- Currently, the query is set up to find a specific number of items in `username`'s content. See [the ArcGIS API for Python documentation on the Search](https://developers.arcgis.com/python/api-reference/arcgis.gis.toc.html#arcgis.gis.ContentManager.search) for information on how to modify the search."
   ]
  },
  {
   "cell_type": "code",
   "execution_count": null,
   "metadata": {},
   "outputs": [],
   "source": [
    "num_items = int(input(\"How many items would you like to clone? \"))\n",
    "items = gis1.content.search(query=\"owner: {}\".format(username), max_items=num_items, sort_field='id', sort_order='desc')\n",
    "print(str(len(items)) + \" items will be cloned. See the list below:\")\n",
    "items"
   ]
  },
  {
   "cell_type": "markdown",
   "metadata": {},
   "source": [
    "#### Create a function that makes deep copies of the items\n",
    "\n",
    "- The ArcGIS API for Python [clone_items](https://developers.arcgis.com/python/api-reference/arcgis.gis.toc.html#arcgis.gis.ContentManager.clone_items) function insantiates a new hosted feature layer in the target organization when `copy_data=True`. \n",
    " - `copy_data=True` is set as the parameter in the function below.\n",
    "- See the full list of parameters, including `folder` to specify a destination folder in the linked documentation above, then modify the `clone_items()` function below."
   ]
  },
  {
   "cell_type": "code",
   "execution_count": null,
   "metadata": {},
   "outputs": [],
   "source": [
    "def deep_copy_content(input_list):\n",
    "    for item in input_list:\n",
    "        try:\n",
    "            print(\"Cloning \" + item.title)\n",
    "            copy_list = []\n",
    "            copy_list.append(item)\n",
    "            gis2.content.clone_items(copy_list, copy_data=True, search_existing_items=True)\n",
    "            print(\"Successfully cloned \" + item.title)\n",
    "        except Exception as e:\n",
    "            print(e)\n",
    "    print(\"The function has completed\")"
   ]
  },
  {
   "cell_type": "markdown",
   "metadata": {},
   "source": [
    "#### Call the function on the list of items"
   ]
  },
  {
   "cell_type": "code",
   "execution_count": null,
   "metadata": {},
   "outputs": [],
   "source": [
    "deep_copy_content(items)"
   ]
  }
 ],
 "metadata": {
  "kernelspec": {
   "display_name": "Python 3",
   "language": "python",
   "name": "python3"
  },
  "language_info": {
   "codemirror_mode": {
    "name": "ipython",
    "version": 3
   },
   "file_extension": ".py",
   "mimetype": "text/x-python",
   "name": "python",
   "nbconvert_exporter": "python",
   "pygments_lexer": "ipython3",
   "version": "3.6.9"
  }
 },
 "nbformat": 4,
 "nbformat_minor": 2
}
