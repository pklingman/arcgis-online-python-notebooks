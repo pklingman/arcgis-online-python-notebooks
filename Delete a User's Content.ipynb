{
 "cells": [
  {
   "cell_type": "markdown",
   "metadata": {},
   "source": [
    "## Delete a User's Content\n",
    "\n",
    "**Intended for Admins.**\n",
    "\n",
    "**Warning: Please take care to review the list of content before deleting items, and [enable delete protection](https://doc.arcgis.com/en/arcgis-online/administer/manage-items.htm#ESRI_SECTION1_07BE763C011B4C0789FF6990B0FD177B) on any item you do not want to be deleted.**"
   ]
  },
  {
   "cell_type": "markdown",
   "metadata": {},
   "source": [
    "#### Connect to the GIS"
   ]
  },
  {
   "cell_type": "code",
   "execution_count": null,
   "metadata": {},
   "outputs": [],
   "source": [
    "username = input(\"Input your username: \")\n",
    "from arcgis.gis import GIS\n",
    "gis = GIS('https://arcgis.com', username)"
   ]
  },
  {
   "cell_type": "markdown",
   "metadata": {},
   "source": [
    "#### Choose whose content to delete, and the number of items to delete\n",
    "\n",
    "- The `gis.content.search()` function takes many more parameters than are used below. The full list can be found in the ArcGIS [API for Python documentation](https://developers.arcgis.com/python/api-reference/arcgis.gis.toc.html#arcgis.gis.ContentManager.search)."
   ]
  },
  {
   "cell_type": "code",
   "execution_count": null,
   "metadata": {},
   "outputs": [],
   "source": [
    "content_owner = input(\"Input the username for content deletion: \")\n",
    "num_items = int(input(\"How many items would you like to delete? \"))\n",
    "query_string = 'owner:{}'.format(content_owner)\n",
    "items_to_delete = gis.content.search(query=query_string, max_items=num_items, sort_field='modified', sort_order='asc')\n",
    "print(str(len(items_to_delete)) + \" items will be deleted. See the list below:\")\n",
    "items_to_delete"
   ]
  },
  {
   "cell_type": "markdown",
   "metadata": {},
   "source": [
    "#### Create a function to delete content"
   ]
  },
  {
   "cell_type": "code",
   "execution_count": null,
   "metadata": {},
   "outputs": [],
   "source": [
    "def delete_content(item_list):\n",
    "    for item in item_list:\n",
    "        try:\n",
    "            print(\"Attempting to delete \" + item.title + \"...\")\n",
    "            item.delete()\n",
    "            print(\"Successfully deleted \" + item.title)\n",
    "        except:\n",
    "            print(\"Unable to delete the item. Moving to the next one in the list...\")  \n",
    "    print(\"Done\")"
   ]
  },
  {
   "cell_type": "markdown",
   "metadata": {},
   "source": [
    "#### Call the function and pass in the list of items created above"
   ]
  },
  {
   "cell_type": "code",
   "execution_count": null,
   "metadata": {},
   "outputs": [],
   "source": [
    "delete_content(items_to_delete)"
   ]
  }
 ],
 "metadata": {
  "kernelspec": {
   "display_name": "Python 3",
   "language": "python",
   "name": "python3"
  },
  "language_info": {
   "codemirror_mode": {
    "name": "ipython",
    "version": 3
   },
   "file_extension": ".py",
   "mimetype": "text/x-python",
   "name": "python",
   "nbconvert_exporter": "python",
   "pygments_lexer": "ipython3",
   "version": "3.6.9"
  }
 },
 "nbformat": 4,
 "nbformat_minor": 2
}
