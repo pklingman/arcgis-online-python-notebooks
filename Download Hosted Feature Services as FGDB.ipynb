{
 "cells": [
  {
   "cell_type": "markdown",
   "metadata": {},
   "source": [
    "## Download Hosted Feature Services as FGDB"
   ]
  },
  {
   "cell_type": "markdown",
   "metadata": {},
   "source": [
    "#### Import modules and connect to the GIS"
   ]
  },
  {
   "cell_type": "code",
   "execution_count": null,
   "metadata": {},
   "outputs": [],
   "source": [
    "from arcgis.gis import GIS\n",
    "import datetime as dt\n",
    "username = input(\"Input your username: \")\n",
    "gis = GIS(\"https://arcgis.com\", username)"
   ]
  },
  {
   "cell_type": "markdown",
   "metadata": {},
   "source": [
    "#### Create the search query to find a specific number of the signed-in user's feature services and define the folder location to store the backups\n",
    "\n",
    "- Note, there are many more options for searching for content using the ArcGIS API for Python. Usage notes and a full list of parameters can be found [here](https://developers.arcgis.com/python/api-reference/arcgis.gis.toc.html#arcgis.gis.ContentManager.search). \n",
    "- No need to escape `\\` in the file path format, as this is converted to `\\\\` for use in the function. For example, you may enter `C:\\users\\username\\documents\\arcgis_backups`. "
   ]
  },
  {
   "cell_type": "code",
   "execution_count": null,
   "metadata": {},
   "outputs": [],
   "source": [
    "folder_path = input(\"Please enter the file location to store the backups: \")\n",
    "num_items = int(input(\"How many items do you want to back up? \"))\n",
    "query_string = \"type:Feature Service, owner:{}\".format(username)\n",
    "items = gis.content.search(query=query_string, max_items=num_items, sort_field='modifed', sort_order='desc')\n",
    "print(str(len(items)) + \" items will be backed up to \" + folder_path +\". See the list below:\")\n",
    "items"
   ]
  },
  {
   "cell_type": "markdown",
   "metadata": {},
   "source": [
    "#### Create a function to back up hosted feature layers\n",
    "\n",
    "- The function excludes hosted feature layer views to avoid duplicate backups."
   ]
  },
  {
   "cell_type": "code",
   "execution_count": null,
   "metadata": {},
   "outputs": [],
   "source": [
    "def download_as_fgdb(item_list, backup_location):\n",
    "    for item in item_list:\n",
    "        try:\n",
    "            if 'View Service' in item.typeKeywords:\n",
    "                print(item.title + \" is view, not downloading\")\n",
    "            else: \n",
    "                print(\"Downloading \" + item.title)\n",
    "                version = dt.datetime.now().strftime(\"%d_%b_%Y\")\n",
    "                result = item.export(item.title + \"_\" + version, \"File Geodatabase\")\n",
    "                result.download(backup_location)\n",
    "                result.delete()\n",
    "                print(\"Successfully downloaded \" + item.title)\n",
    "        except:\n",
    "            print(\"An error occurred downloading \" + item.title)\n",
    "    print(\"The function has completed\")"
   ]
  },
  {
   "cell_type": "markdown",
   "metadata": {},
   "source": [
    "#### Call the function on the item list with your backup location"
   ]
  },
  {
   "cell_type": "code",
   "execution_count": null,
   "metadata": {},
   "outputs": [],
   "source": [
    "download_as_fgdb(items, folder_path)"
   ]
  }
 ],
 "metadata": {
  "kernelspec": {
   "display_name": "Python 3",
   "language": "python",
   "name": "python3"
  },
  "language_info": {
   "codemirror_mode": {
    "name": "ipython",
    "version": 3
   },
   "file_extension": ".py",
   "mimetype": "text/x-python",
   "name": "python",
   "nbconvert_exporter": "python",
   "pygments_lexer": "ipython3",
   "version": "3.6.9"
  }
 },
 "nbformat": 4,
 "nbformat_minor": 2
}
